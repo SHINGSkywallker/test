{
  "nbformat": 4,
  "nbformat_minor": 0,
  "metadata": {
    "colab": {
      "provenance": [],
      "name": "HW1.ipynb",
      "authorship_tag": "ABX9TyNGyJ2V6DqNz6Q21W7N09J4",
      "include_colab_link": true
    },
    "kernelspec": {
      "name": "python3",
      "display_name": "Python 3"
    },
    "language_info": {
      "name": "python"
    }
  },
  "cells": [
    {
      "cell_type": "markdown",
      "metadata": {
        "id": "view-in-github",
        "colab_type": "text"
      },
      "source": [
        "<a href=\"https://colab.research.google.com/github/SHINGSkywallker/test/blob/main/HW1.ipynb\" target=\"_parent\"><img src=\"https://colab.research.google.com/assets/colab-badge.svg\" alt=\"Open In Colab\"/></a>"
      ]
    },
    {
      "cell_type": "markdown",
      "source": [
        "# 日常支出速算與分攤（作業一）\n",
        "- 目標：從 Sheet 讀「消費紀錄」→ 計總額/分類小計/AA 分攤 → 寫回 Sheet Summary 分頁。\n",
        "- AI 點子（可選）：請模型總結本週花錢習慣與建議（例如「外食過多」）。\n",
        "\n",
        "- Sheet 欄位：date, category, item, amount, payer\n",
        "\n",
        "GoogleSheet: https://docs.google.com/spreadsheets/d/1gP4RvkVJvMNlPf9UJE_eb9LpeEGFa_-W7bZVIfZFE4c/edit?usp=sharing"
      ],
      "metadata": {
        "id": "1o9REVswhiH9"
      }
    },
    {
      "cell_type": "code",
      "metadata": {
        "colab": {
          "base_uri": "https://localhost:8080/"
        },
        "collapsed": true,
        "id": "sMp6WTXiRkr",
        "outputId": "552773b6-c571-4535-fe07-5a1c7e211fb4"
      },
      "source": [
        "!pip install gspread oauth2client"
      ],
      "execution_count": null,
      "outputs": [
        {
          "output_type": "stream",
          "name": "stdout",
          "text": [
            "Requirement already satisfied: gspread in /usr/local/lib/python3.12/dist-packages (6.2.1)\n",
            "Requirement already satisfied: oauth2client in /usr/local/lib/python3.12/dist-packages (4.1.3)\n",
            "Requirement already satisfied: google-auth>=1.12.0 in /usr/local/lib/python3.12/dist-packages (from gspread) (2.38.0)\n",
            "Requirement already satisfied: google-auth-oauthlib>=0.4.1 in /usr/local/lib/python3.12/dist-packages (from gspread) (1.2.2)\n",
            "Requirement already satisfied: httplib2>=0.9.1 in /usr/local/lib/python3.12/dist-packages (from oauth2client) (0.30.0)\n",
            "Requirement already satisfied: pyasn1>=0.1.7 in /usr/local/lib/python3.12/dist-packages (from oauth2client) (0.6.1)\n",
            "Requirement already satisfied: pyasn1-modules>=0.0.5 in /usr/local/lib/python3.12/dist-packages (from oauth2client) (0.4.2)\n",
            "Requirement already satisfied: rsa>=3.1.4 in /usr/local/lib/python3.12/dist-packages (from oauth2client) (4.9.1)\n",
            "Requirement already satisfied: six>=1.6.1 in /usr/local/lib/python3.12/dist-packages (from oauth2client) (1.17.0)\n",
            "Requirement already satisfied: cachetools<6.0,>=2.0.0 in /usr/local/lib/python3.12/dist-packages (from google-auth>=1.12.0->gspread) (5.5.2)\n",
            "Requirement already satisfied: requests-oauthlib>=0.7.0 in /usr/local/lib/python3.12/dist-packages (from google-auth-oauthlib>=0.4.1->gspread) (2.0.0)\n",
            "Requirement already satisfied: pyparsing<4,>=3.0.4 in /usr/local/lib/python3.12/dist-packages (from httplib2>=0.9.1->oauth2client) (3.2.3)\n",
            "Requirement already satisfied: oauthlib>=3.0.0 in /usr/local/lib/python3.12/dist-packages (from requests-oauthlib>=0.7.0->google-auth-oauthlib>=0.4.1->gspread) (3.3.1)\n",
            "Requirement already satisfied: requests>=2.0.0 in /usr/local/lib/python3.12/dist-packages (from requests-oauthlib>=0.7.0->google-auth-oauthlib>=0.4.1->gspread) (2.32.4)\n",
            "Requirement already satisfied: charset_normalizer<4,>=2 in /usr/local/lib/python3.12/dist-packages (from requests>=2.0.0->requests-oauthlib>=0.7.0->google-auth-oauthlib>=0.4.1->gspread) (3.4.3)\n",
            "Requirement already satisfied: idna<4,>=2.5 in /usr/local/lib/python3.12/dist-packages (from requests>=2.0.0->requests-oauthlib>=0.7.0->google-auth-oauthlib>=0.4.1->gspread) (3.10)\n",
            "Requirement already satisfied: urllib3<3,>=1.21.1 in /usr/local/lib/python3.12/dist-packages (from requests>=2.0.0->requests-oauthlib>=0.7.0->google-auth-oauthlib>=0.4.1->gspread) (2.5.0)\n",
            "Requirement already satisfied: certifi>=2017.4.17 in /usr/local/lib/python3.12/dist-packages (from requests>=2.0.0->requests-oauthlib>=0.7.0->google-auth-oauthlib>=0.4.1->gspread) (2025.8.3)\n"
          ]
        }
      ]
    },
    {
      "cell_type": "code",
      "metadata": {
        "id": "b3b38fca"
      },
      "source": [
        "from google.colab import auth\n",
        "auth.authenticate_user()\n",
        "\n",
        "import gspread\n",
        "from google.auth import default\n",
        "creds, _ = default()\n",
        "\n",
        "gc = gspread.authorize(creds)"
      ],
      "execution_count": null,
      "outputs": []
    },
    {
      "cell_type": "code",
      "metadata": {
        "id": "5eb4b161"
      },
      "source": [
        "spreadsheet = gc.open_by_url(\"https://docs.google.com/spreadsheets/d/1gP4RvkVJvMNlPf9UJE_eb9LpeEGFa_-W7bZVIfZFE4c/edit?usp=sharing\")\n"
      ],
      "execution_count": null,
      "outputs": []
    },
    {
      "cell_type": "code",
      "metadata": {
        "colab": {
          "base_uri": "https://localhost:8080/"
        },
        "id": "7dec636b",
        "outputId": "998a0c57-b875-4921-94e3-c635494868fd"
      },
      "source": [
        "date = input(\"請輸入日期 (YYYY-MM-DD): \")\n",
        "category = input(\"請輸入類型: \")\n",
        "item = input(\"請輸入項目: \")\n",
        "amount = input(\"請輸入金額 (請輸入數字): \")\n",
        "is_want_or_need = input(\"請輸入是否為想要或需要 (想要/需要): \")"
      ],
      "execution_count": null,
      "outputs": [
        {
          "name": "stdout",
          "output_type": "stream",
          "text": [
            "請輸入日期 (YYYY-MM-DD): 2025-09-11\n",
            "請輸入類型: 食\n",
            "請輸入項目: 蛋糕\n",
            "請輸入金額 (請輸入數字): 49\n",
            "請輸入是否為想要或需要 (想要/需要): 想要\n"
          ]
        }
      ]
    },
    {
      "cell_type": "code",
      "metadata": {
        "colab": {
          "base_uri": "https://localhost:8080/"
        },
        "id": "26fc01b4",
        "outputId": "fae47a9d-4ebe-4023-df48-99ee9b9801a7"
      },
      "source": [
        "# 將輸入的資料整理成列表\n",
        "expense_data = [date, category, item, amount, is_want_or_need]\n",
        "\n",
        "# 顯示整理好的資料\n",
        "print(\"準備寫入試算表的資料：\")\n",
        "print(expense_data)"
      ],
      "execution_count": null,
      "outputs": [
        {
          "output_type": "stream",
          "name": "stdout",
          "text": [
            "準備寫入試算表的資料：\n",
            "['2025-09-11', '食', '蛋糕', '49', '想要']\n"
          ]
        }
      ]
    },
    {
      "cell_type": "code",
      "source": [
        "import pandas as pd"
      ],
      "metadata": {
        "id": "IVLAgYJxwIny"
      },
      "execution_count": null,
      "outputs": []
    },
    {
      "cell_type": "code",
      "metadata": {
        "colab": {
          "base_uri": "https://localhost:8080/"
        },
        "id": "f36605d0",
        "outputId": "dbef6090-7c41-46b6-9eb3-8ca30a1f8c1e"
      },
      "source": [
        "# 選擇要寫入的工作表 (例如：'消費紀錄')\n",
        "# 請確認工作表名稱是否正確\n",
        "worksheet = spreadsheet.worksheet('工作表1')\n",
        "\n",
        "# 將資料新增到工作表的最後一行\n",
        "worksheet.append_row(expense_data)\n",
        "\n",
        "print(\"資料已成功寫入 Google Sheet！\")"
      ],
      "execution_count": null,
      "outputs": [
        {
          "output_type": "stream",
          "name": "stdout",
          "text": [
            "資料已成功寫入 Google Sheet！\n"
          ]
        }
      ]
    }
  ]
}